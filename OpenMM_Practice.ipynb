{
 "cells": [
  {
   "cell_type": "code",
   "execution_count": 2,
   "id": "initial_id",
   "metadata": {
    "collapsed": true,
    "ExecuteTime": {
     "end_time": "2024-07-30T22:38:47.930046Z",
     "start_time": "2024-07-30T22:38:47.926589Z"
    }
   },
   "outputs": [],
   "source": [
    "from openmm.app import *\n",
    "from openmm import *\n",
    "from openmm.unit import *\n",
    "from sys import stdout"
   ]
  },
  {
   "cell_type": "code",
   "outputs": [],
   "source": [
    "# import pdb file\n",
    "pdb = PDBFile('Pdb_files/FUS_withH.pdb')"
   ],
   "metadata": {
    "collapsed": false,
    "ExecuteTime": {
     "end_time": "2024-07-30T22:38:48.075930Z",
     "start_time": "2024-07-30T22:38:47.932118Z"
    }
   },
   "id": "ec6745f1aeb63f49",
   "execution_count": 3
  },
  {
   "cell_type": "code",
   "outputs": [
    {
     "name": "stdout",
     "output_type": "stream",
     "text": [
      "Vec3(x=-6.126100000000001, y=-3.2746000000000004, z=-0.0601) nm\n",
      "-0.0601 nm\n"
     ]
    }
   ],
   "source": [
    "# Get the positions of all the atoms in the pdb file. \n",
    "positions = pdb.getPositions()\n",
    "print(positions[0])\n",
    "print(positions[0][2])   "
   ],
   "metadata": {
    "collapsed": false,
    "ExecuteTime": {
     "end_time": "2024-07-30T22:38:48.078909Z",
     "start_time": "2024-07-30T22:38:48.076919Z"
    }
   },
   "id": "66ba7f833037e425",
   "execution_count": 4
  },
  {
   "cell_type": "code",
   "outputs": [],
   "source": [
    "# Remove the units. \n",
    "#positions = pdb.getPositions()/nanometer\n",
    "#print(positions[0])\n",
    "#print(positions[0][0])"
   ],
   "metadata": {
    "collapsed": false,
    "ExecuteTime": {
     "end_time": "2024-07-30T22:38:48.081184Z",
     "start_time": "2024-07-30T22:38:48.079624Z"
    }
   },
   "id": "6dfbdf6d7353950e",
   "execution_count": 5
  },
  {
   "cell_type": "code",
   "outputs": [],
   "source": [
    "# Converting into different units. \n",
    "#positions = pdb.getPositions()/angstrom        \n",
    "#print(positions[0])\n",
    "#print(positions[0][0])"
   ],
   "metadata": {
    "collapsed": false,
    "ExecuteTime": {
     "end_time": "2024-07-30T22:38:48.084308Z",
     "start_time": "2024-07-30T22:38:48.082760Z"
    }
   },
   "id": "a215306f3668b2ee",
   "execution_count": 6
  },
  {
   "cell_type": "code",
   "outputs": [
    {
     "name": "stdout",
     "output_type": "stream",
     "text": [
      "Vec3(x=-6.126100000000001, y=-3.2746000000000004, z=-0.0601) nm\n",
      "Vec3(x=-5.9834000000000005, y=-3.3064999999999998, z=-0.0811) nm\n",
      "Vec3(x=-5.907500000000001, y=-3.1993, z=-0.0031000000000000003) nm\n",
      "Vec3(x=-5.95, y=-3.3059, z=-0.2318) nm\n",
      "Vec3(x=-5.912800000000001, y=-3.0855, z=-0.046400000000000004) nm\n"
     ]
    }
   ],
   "source": [
    "for pos in positions[:5]: print(pos)"
   ],
   "metadata": {
    "collapsed": false,
    "ExecuteTime": {
     "end_time": "2024-07-30T22:38:48.087108Z",
     "start_time": "2024-07-30T22:38:48.085115Z"
    }
   },
   "id": "cca566c597d0f258",
   "execution_count": 7
  },
  {
   "cell_type": "code",
   "outputs": [
    {
     "name": "stdout",
     "output_type": "stream",
     "text": [
      "<Topology; 1 chains, 526 residues, 7093 atoms, 7177 bonds>\n",
      "7093\n",
      "7177\n"
     ]
    }
   ],
   "source": [
    "top = pdb.getTopology()\n",
    "print(top)\n",
    "print(top.getNumAtoms())\n",
    "print(top.getNumBonds())"
   ],
   "metadata": {
    "collapsed": false,
    "ExecuteTime": {
     "end_time": "2024-07-30T22:38:48.089985Z",
     "start_time": "2024-07-30T22:38:48.087859Z"
    }
   },
   "id": "4cd5e7bd423bc168",
   "execution_count": 8
  },
  {
   "cell_type": "code",
   "outputs": [
    {
     "name": "stdout",
     "output_type": "stream",
     "text": [
      "Bond(<Atom 2 (C) of chain 0 residue 0 (MET)>, <Atom 1 (CA) of chain 0 residue 0 (MET)>)\n",
      "Bond(<Atom 2 (C) of chain 0 residue 0 (MET)>, <Atom 4 (O) of chain 0 residue 0 (MET)>)\n",
      "Bond(<Atom 1 (CA) of chain 0 residue 0 (MET)>, <Atom 3 (CB) of chain 0 residue 0 (MET)>)\n",
      "Bond(<Atom 1 (CA) of chain 0 residue 0 (MET)>, <Atom 11 (HA) of chain 0 residue 0 (MET)>)\n",
      "Bond(<Atom 1 (CA) of chain 0 residue 0 (MET)>, <Atom 0 (N) of chain 0 residue 0 (MET)>)\n",
      "Bond(<Atom 2 (C) of chain 0 residue 0 (MET)>, <Atom 1 (CA) of chain 0 residue 0 (MET)>)\n",
      "<Atom 2 (C) of chain 0 residue 0 (MET)> <Atom 1 (CA) of chain 0 residue 0 (MET)>\n",
      "C CA\n",
      "3 2\n",
      "2 1\n",
      "Bond(<Atom 1 (CA) of chain 0 residue 0 (MET)>, <Atom 0 (N) of chain 0 residue 0 (MET)>)\n",
      "<Atom 1 (CA) of chain 0 residue 0 (MET)> <Atom 0 (N) of chain 0 residue 0 (MET)>\n",
      "CA N\n",
      "2 1\n",
      "1 0\n"
     ]
    }
   ],
   "source": [
    "# Get the bonds and know the atom number it is bonded to. \n",
    "bonds = list(top.bonds())\n",
    "top_five_bonds = []\n",
    "for bond in bonds[:5]: top_five_bonds.append(bond); print(bond)\n",
    "\n",
    "print(top_five_bonds[0])\n",
    "print(top_five_bonds[0].atom1, top_five_bonds[0].atom2)\n",
    "print(top_five_bonds[0].atom1.name, top_five_bonds[0].atom2.name)\n",
    "print(top_five_bonds[0].atom1.id, top_five_bonds[0].atom2.id)\n",
    "print(top_five_bonds[0].atom1.index, top_five_bonds[0].atom2.index)\n",
    "\n",
    "print(top_five_bonds[4])\n",
    "print(top_five_bonds[4].atom1, top_five_bonds[4].atom2)\n",
    "print(top_five_bonds[4].atom1.name, top_five_bonds[4].atom2.name)\n",
    "print(top_five_bonds[4].atom1.id, top_five_bonds[4].atom2.id)           # id matches with the pdb file id. \n",
    "print(top_five_bonds[4].atom1.index, top_five_bonds[4].atom2.index)     # index is always less than 1 of id. "
   ],
   "metadata": {
    "collapsed": false,
    "ExecuteTime": {
     "end_time": "2024-07-30T22:38:48.094438Z",
     "start_time": "2024-07-30T22:38:48.090672Z"
    }
   },
   "id": "3b763546a3085157",
   "execution_count": 9
  },
  {
   "cell_type": "code",
   "outputs": [],
   "source": [
    "forcefield = ForceField('amber14-all.xml', 'amber14/tip3pfb.xml')\n",
    "system = forcefield.createSystem(pdb.topology, nonbondedMethod=NoCutoff, nonbondedCutoff=1*nanometer, constraints=HBonds)"
   ],
   "metadata": {
    "collapsed": false,
    "ExecuteTime": {
     "end_time": "2024-07-30T22:38:48.377062Z",
     "start_time": "2024-07-30T22:38:48.095173Z"
    }
   },
   "id": "992b7cc3e9822769",
   "execution_count": 10
  },
  {
   "cell_type": "code",
   "outputs": [
    {
     "data": {
      "text/plain": "[<openmm.openmm.HarmonicBondForce; proxy of <Swig Object of type 'OpenMM::HarmonicBondForce *' at 0x10f17a6f0> >,\n <openmm.openmm.NonbondedForce; proxy of <Swig Object of type 'OpenMM::NonbondedForce *' at 0x10f17a7e0> >,\n <openmm.openmm.PeriodicTorsionForce; proxy of <Swig Object of type 'OpenMM::PeriodicTorsionForce *' at 0x10f17a870> >,\n <openmm.openmm.CMMotionRemover; proxy of <Swig Object of type 'OpenMM::CMMotionRemover *' at 0x10f17a900> >,\n <openmm.openmm.HarmonicAngleForce; proxy of <Swig Object of type 'OpenMM::HarmonicAngleForce *' at 0x10f17a990> >]"
     },
     "execution_count": 11,
     "metadata": {},
     "output_type": "execute_result"
    }
   ],
   "source": [
    "system.getForces()"
   ],
   "metadata": {
    "collapsed": false,
    "ExecuteTime": {
     "end_time": "2024-07-30T22:38:48.381620Z",
     "start_time": "2024-07-30T22:38:48.377810Z"
    }
   },
   "id": "68abb10b5c9d3b48",
   "execution_count": 11
  },
  {
   "cell_type": "code",
   "outputs": [
    {
     "name": "stdout",
     "output_type": "stream",
     "text": [
      "<openmm.openmm.NonbondedForce; proxy of <Swig Object of type 'OpenMM::NonbondedForce *' at 0x10f17aa20> >\n",
      "7093\n",
      "1.0 nm\n"
     ]
    }
   ],
   "source": [
    "# Getting the NonbondedForce\n",
    "print(system.getForces()[1])\n",
    "nb_forces = system.getForces()[1]\n",
    "print(nb_forces.getNumParticles())\n",
    "print(nb_forces.getCutoffDistance())"
   ],
   "metadata": {
    "collapsed": false,
    "ExecuteTime": {
     "end_time": "2024-07-30T22:38:48.385827Z",
     "start_time": "2024-07-30T22:38:48.383685Z"
    }
   },
   "id": "57efd8f703bfb265",
   "execution_count": 12
  },
  {
   "cell_type": "code",
   "outputs": [
    {
     "name": "stdout",
     "output_type": "stream",
     "text": [
      "-13227.516967773438 kJ/mol\n"
     ]
    }
   ],
   "source": [
    "# Setting simulation object\n",
    "integrator = LangevinMiddleIntegrator(300*kelvin, 1/picosecond, 0.004*picoseconds)\n",
    "simulation = Simulation(pdb.topology, system, integrator)\n",
    "\n",
    "# set the initial position of the simulation.\n",
    "simulation.context.setPositions(pdb.positions)\n",
    "\n",
    "state = simulation.context.getState(getEnergy=True)\n",
    "print(state.getPotentialEnergy())"
   ],
   "metadata": {
    "collapsed": false,
    "ExecuteTime": {
     "end_time": "2024-07-30T22:38:48.525666Z",
     "start_time": "2024-07-30T22:38:48.386908Z"
    }
   },
   "id": "7e98c1be9ad7282a",
   "execution_count": 13
  },
  {
   "cell_type": "code",
   "outputs": [
    {
     "name": "stdout",
     "output_type": "stream",
     "text": [
      "[Quantity(value=0.4017, unit=elementary charge), Quantity(value=1.0, unit=nanometer), Quantity(value=0.0, unit=kilojoule/mole)]\n"
     ]
    }
   ],
   "source": [
    "# I want to change the parameters of the non-bonded force and double it.\n",
    "nb_particles = system.getNumParticles()\n",
    "sigma = []\n",
    "epsilon = []\n",
    "charge = []\n",
    "\n",
    "# Getting the parameter of the non-bonded force.\n",
    "for n in range(nb_particles):\n",
    "    param = nb_forces.getParticleParameters(n)\n",
    "    charge.append(param[0])\n",
    "    sigma.append(param[1])\n",
    "    epsilon.append(param[2])\n",
    "\n",
    "print(param)\n",
    "\n",
    "# Double the parameter. \n",
    "for i in range(nb_particles):\n",
    "    nb_forces.setParticleParameters(i, charge[i], sigma[i]*0.97, epsilon[i])\n"
   ],
   "metadata": {
    "collapsed": false,
    "ExecuteTime": {
     "end_time": "2024-07-30T22:38:48.590433Z",
     "start_time": "2024-07-30T22:38:48.526495Z"
    }
   },
   "id": "bbb0de1afc3aff93",
   "execution_count": 14
  },
  {
   "cell_type": "code",
   "outputs": [
    {
     "name": "stdout",
     "output_type": "stream",
     "text": [
      "-13227.516967773438 kJ/mol\n"
     ]
    }
   ],
   "source": [
    "# update the context \n",
    "state = simulation.context.getState(getEnergy=True)\n",
    "print(state.getPotentialEnergy())"
   ],
   "metadata": {
    "collapsed": false,
    "ExecuteTime": {
     "end_time": "2024-07-30T22:38:48.599371Z",
     "start_time": "2024-07-30T22:38:48.591348Z"
    }
   },
   "id": "93f1bceb69108e03",
   "execution_count": 15
  }
 ],
 "metadata": {
  "kernelspec": {
   "display_name": "Python 3",
   "language": "python",
   "name": "python3"
  },
  "language_info": {
   "codemirror_mode": {
    "name": "ipython",
    "version": 2
   },
   "file_extension": ".py",
   "mimetype": "text/x-python",
   "name": "python",
   "nbconvert_exporter": "python",
   "pygments_lexer": "ipython2",
   "version": "2.7.6"
  }
 },
 "nbformat": 4,
 "nbformat_minor": 5
}
